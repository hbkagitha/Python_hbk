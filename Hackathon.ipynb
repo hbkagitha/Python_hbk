{
 "cells": [
  {
   "cell_type": "code",
   "execution_count": 3,
   "id": "61b2fea7-50a5-48db-8e37-8488b7890e1b",
   "metadata": {},
   "outputs": [
    {
     "name": "stdout",
     "output_type": "stream",
     "text": [
      "HELLO\n"
     ]
    }
   ],
   "source": [
    "print(\"HELLO\")\n"
   ]
  },
  {
   "cell_type": "code",
   "execution_count": null,
   "id": "33876711-2c85-44b6-92fd-97d664a610bb",
   "metadata": {},
   "outputs": [],
   "source": []
  }
 ],
 "metadata": {
  "kernelspec": {
   "display_name": "Python 3 (ipykernel)",
   "language": "python",
   "name": "python3"
  },
  "language_info": {
   "codemirror_mode": {
    "name": "ipython",
    "version": 3
   },
   "file_extension": ".py",
   "mimetype": "text/x-python",
   "name": "python",
   "nbconvert_exporter": "python",
   "pygments_lexer": "ipython3",
   "version": "3.12.4"
  }
 },
 "nbformat": 4,
 "nbformat_minor": 5
}
